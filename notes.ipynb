{
 "cells": [
  {
   "cell_type": "markdown",
   "metadata": {},
   "source": [
    "reference: https://www.scrapingdog.com/blog/scrape-linkedin-jobs/"
   ]
  },
  {
   "cell_type": "code",
   "execution_count": 34,
   "metadata": {},
   "outputs": [],
   "source": [
    "import requests\n",
    "from bs4 import BeautifulSoup\n",
    "import math\n",
    "import pandas as pd"
   ]
  },
  {
   "cell_type": "code",
   "execution_count": 35,
   "metadata": {},
   "outputs": [],
   "source": [
    "target_url = 'https://www.linkedin.com/jobs-guest/jobs/api/seeMoreJobPostings/search?keywords=Data%20Analyst&location=Indonesia&geoId=102478259&trk=public_jobs_jobs-search-bar_search-submit&position=1&pageNum=0&start={}'\n",
    "number_of_loops = math.ceil(25/25)\n",
    "\n",
    "result = []\n",
    "\n",
    "for i in range(number_of_loops):\n",
    "    res = requests.get(target_url.format(i))\n",
    "    soup = BeautifulSoup(res.text, 'html.parser')\n",
    "    jobs = soup.find_all(\"li\")\n",
    "\n",
    "    for x in range(len(jobs)):\n",
    "        job = jobs[x].find(\"div\", {\"class\": \"base-card\"})\n",
    "        \n",
    "        if job != None:\n",
    "            jobId = job.get('data-entity-urn').split(\":\")[3]\n",
    "            result.append(jobId)\n"
   ]
  },
  {
   "cell_type": "code",
   "execution_count": 36,
   "metadata": {},
   "outputs": [
    {
     "data": {
      "text/plain": [
       "['3706120445',\n",
       " '3782381201',\n",
       " '3778794615',\n",
       " '3779662154',\n",
       " '3773696647',\n",
       " '3755872765',\n",
       " '3575812833',\n",
       " '3754698292',\n",
       " '3781529590',\n",
       " '3779662194',\n",
       " '3783835289',\n",
       " '3780120554',\n",
       " '3777052232',\n",
       " '3771514295',\n",
       " '3752394635',\n",
       " '3758930948',\n",
       " '3779662261',\n",
       " '3760982750',\n",
       " '3695200806',\n",
       " '3691368179',\n",
       " '3780071453',\n",
       " '3779659647',\n",
       " '3773675449',\n",
       " '3779974494',\n",
       " '3773671825']"
      ]
     },
     "execution_count": 36,
     "metadata": {},
     "output_type": "execute_result"
    }
   ],
   "source": [
    "result"
   ]
  },
  {
   "cell_type": "code",
   "execution_count": 37,
   "metadata": {},
   "outputs": [
    {
     "data": {
      "text/plain": [
       "25"
      ]
     },
     "execution_count": 37,
     "metadata": {},
     "output_type": "execute_result"
    }
   ],
   "source": [
    "len(result)"
   ]
  },
  {
   "cell_type": "code",
   "execution_count": 38,
   "metadata": {},
   "outputs": [],
   "source": [
    "target_url = 'https://www.linkedin.com/jobs-guest/jobs/api/jobPosting/{}'\n",
    "jobResult = []\n",
    "for job in range(len(result)):\n",
    "    detail = {}\n",
    "    resp = requests.get(target_url.format(result[job]))\n",
    "    soup = BeautifulSoup(resp.text, 'html.parser')\n",
    "\n",
    "    try:\n",
    "        detail[\"job-title\"] = soup.find(\n",
    "            \"div\", {\"class\": \"top-card-layout__entity-info\"}).find(\"a\").text.strip()\n",
    "    except:\n",
    "        detail[\"job-title\"] = None\n",
    "\n",
    "    try:\n",
    "        detail[\"company\"] = soup.find(\n",
    "            \"div\", {\"class\": \"top-card-layout__card\"}).find(\"a\").find(\"img\").get('alt')\n",
    "    except:\n",
    "        detail[\"company\"] = None\n",
    "\n",
    "    try:\n",
    "        detail[\"level\"] = soup.find(\"ul\", {\"class\": \"description__job-criteria-list\"}).find_all(\n",
    "            \"li\")[0].text.replace(\"Seniority level\", \"\").strip()\n",
    "    except:\n",
    "        detail[\"level\"] = None\n",
    "\n",
    "    try:\n",
    "        detail[\"employment-type\"] = soup.find(\"ul\", {\"class\": \"description__job-criteria-list\"}).find_all(\n",
    "            \"li\")[1].text.replace(\"Employment type\", \"\").strip()\n",
    "    except:\n",
    "        detail[\"employment-type\"] = None\n",
    "\n",
    "    jobResult.append(detail)"
   ]
  },
  {
   "cell_type": "code",
   "execution_count": 39,
   "metadata": {},
   "outputs": [
    {
     "data": {
      "text/plain": [
       "[{'job-title': 'Data Analyst',\n",
       "  'company': 'Gojek',\n",
       "  'level': 'Entry level',\n",
       "  'employment-type': 'Full-time'},\n",
       " {'job-title': 'Data Analyst (CRM)',\n",
       "  'company': 'Gojek',\n",
       "  'level': 'Entry level',\n",
       "  'employment-type': 'Full-time'},\n",
       " {'job-title': 'Junior Data Analyst',\n",
       "  'company': 'JULO',\n",
       "  'level': 'Entry level',\n",
       "  'employment-type': 'Full-time'},\n",
       " {'job-title': 'Data Analyst',\n",
       "  'company': 'PT. CS2 POLA SEHAT',\n",
       "  'level': 'Entry level',\n",
       "  'employment-type': 'Full-time'},\n",
       " {'job-title': 'Data Analyst',\n",
       "  'company': 'PT Indofood CBP Sukses Makmur Tbk - Noodle Division',\n",
       "  'level': 'Entry level',\n",
       "  'employment-type': 'Full-time'},\n",
       " {'job-title': 'Social Insights Analyst',\n",
       "  'company': 'Capgemini',\n",
       "  'level': 'Associate',\n",
       "  'employment-type': 'Full-time'},\n",
       " {'job-title': 'Data Analyst',\n",
       "  'company': 'Amar Bank',\n",
       "  'level': 'Not Applicable',\n",
       "  'employment-type': 'Full-time'},\n",
       " {'job-title': 'Data Analyst (Remote)',\n",
       "  'company': 'Love, Bonito',\n",
       "  'level': 'Mid-Senior level',\n",
       "  'employment-type': 'Full-time'},\n",
       " {'job-title': 'Data Analyst',\n",
       "  'company': 'Traveloka',\n",
       "  'level': 'Entry level',\n",
       "  'employment-type': 'Full-time'},\n",
       " {'job-title': None, 'company': None, 'level': None, 'employment-type': None},\n",
       " {'job-title': 'Data Center & Analysis',\n",
       "  'company': 'PT. Bali Towerindo Sentra Tbk,',\n",
       "  'level': 'Entry level',\n",
       "  'employment-type': 'Full-time'},\n",
       " {'job-title': 'Data Analyst',\n",
       "  'company': 'Traveloka',\n",
       "  'level': 'Entry level',\n",
       "  'employment-type': 'Full-time'},\n",
       " {'job-title': 'Business Intelligence Analyst',\n",
       "  'company': 'Boost',\n",
       "  'level': 'Associate',\n",
       "  'employment-type': 'Full-time'},\n",
       " {'job-title': 'Data Analyst',\n",
       "  'company': 'Moladin',\n",
       "  'level': 'Entry level',\n",
       "  'employment-type': 'Full-time'},\n",
       " {'job-title': 'Data Analyst',\n",
       "  'company': 'Alterra Indonesia',\n",
       "  'level': 'Entry level',\n",
       "  'employment-type': 'Full-time'},\n",
       " {'job-title': 'Data Analyst (Remote)',\n",
       "  'company': 'Portcast',\n",
       "  'level': 'Not Applicable',\n",
       "  'employment-type': 'Full-time'},\n",
       " {'job-title': 'Data Analyst',\n",
       "  'company': 'torch.id',\n",
       "  'level': 'Entry level',\n",
       "  'employment-type': 'Full-time'},\n",
       " {'job-title': 'Data Analyst',\n",
       "  'company': 'Alterra Indonesia',\n",
       "  'level': 'Mid-Senior level',\n",
       "  'employment-type': 'Full-time'},\n",
       " {'job-title': 'Data Analyst',\n",
       "  'company': 'Astra Financial',\n",
       "  'level': 'Entry level',\n",
       "  'employment-type': 'Full-time'},\n",
       " {'job-title': 'Data Analyst',\n",
       "  'company': 'Traveloka',\n",
       "  'level': 'Entry level',\n",
       "  'employment-type': 'Full-time'},\n",
       " {'job-title': 'Data Analyst Staff - Sunter',\n",
       "  'company': 'PT Wahana Ottomitra Multiartha Tbk',\n",
       "  'level': 'Entry level',\n",
       "  'employment-type': 'Full-time'},\n",
       " {'job-title': 'Junior Data Analyst',\n",
       "  'company': 'JULO',\n",
       "  'level': 'Mid-Senior level',\n",
       "  'employment-type': 'Full-time'},\n",
       " {'job-title': 'Data Analyst (Marketing Analytics)',\n",
       "  'company': 'Traveloka',\n",
       "  'level': 'Entry level',\n",
       "  'employment-type': 'Full-time'},\n",
       " {'job-title': 'Data Analyst - Finance',\n",
       "  'company': 'Krom',\n",
       "  'level': 'Mid-Senior level',\n",
       "  'employment-type': 'Full-time'},\n",
       " {'job-title': 'Data Analyst (Platform Analytics)',\n",
       "  'company': 'Traveloka',\n",
       "  'level': 'Entry level',\n",
       "  'employment-type': 'Full-time'}]"
      ]
     },
     "execution_count": 39,
     "metadata": {},
     "output_type": "execute_result"
    }
   ],
   "source": [
    "jobResult"
   ]
  },
  {
   "cell_type": "code",
   "execution_count": 40,
   "metadata": {},
   "outputs": [
    {
     "data": {
      "text/html": [
       "<div>\n",
       "<style scoped>\n",
       "    .dataframe tbody tr th:only-of-type {\n",
       "        vertical-align: middle;\n",
       "    }\n",
       "\n",
       "    .dataframe tbody tr th {\n",
       "        vertical-align: top;\n",
       "    }\n",
       "\n",
       "    .dataframe thead th {\n",
       "        text-align: right;\n",
       "    }\n",
       "</style>\n",
       "<table border=\"1\" class=\"dataframe\">\n",
       "  <thead>\n",
       "    <tr style=\"text-align: right;\">\n",
       "      <th></th>\n",
       "      <th>job-title</th>\n",
       "      <th>company</th>\n",
       "      <th>level</th>\n",
       "      <th>employment-type</th>\n",
       "    </tr>\n",
       "  </thead>\n",
       "  <tbody>\n",
       "    <tr>\n",
       "      <th>0</th>\n",
       "      <td>Data Analyst</td>\n",
       "      <td>Gojek</td>\n",
       "      <td>Entry level</td>\n",
       "      <td>Full-time</td>\n",
       "    </tr>\n",
       "    <tr>\n",
       "      <th>1</th>\n",
       "      <td>Data Analyst (CRM)</td>\n",
       "      <td>Gojek</td>\n",
       "      <td>Entry level</td>\n",
       "      <td>Full-time</td>\n",
       "    </tr>\n",
       "    <tr>\n",
       "      <th>2</th>\n",
       "      <td>Junior Data Analyst</td>\n",
       "      <td>JULO</td>\n",
       "      <td>Entry level</td>\n",
       "      <td>Full-time</td>\n",
       "    </tr>\n",
       "    <tr>\n",
       "      <th>3</th>\n",
       "      <td>Data Analyst</td>\n",
       "      <td>PT. CS2 POLA SEHAT</td>\n",
       "      <td>Entry level</td>\n",
       "      <td>Full-time</td>\n",
       "    </tr>\n",
       "    <tr>\n",
       "      <th>4</th>\n",
       "      <td>Data Analyst</td>\n",
       "      <td>PT Indofood CBP Sukses Makmur Tbk - Noodle Div...</td>\n",
       "      <td>Entry level</td>\n",
       "      <td>Full-time</td>\n",
       "    </tr>\n",
       "  </tbody>\n",
       "</table>\n",
       "</div>"
      ],
      "text/plain": [
       "             job-title                                            company  \\\n",
       "0         Data Analyst                                              Gojek   \n",
       "1   Data Analyst (CRM)                                              Gojek   \n",
       "2  Junior Data Analyst                                               JULO   \n",
       "3         Data Analyst                                 PT. CS2 POLA SEHAT   \n",
       "4         Data Analyst  PT Indofood CBP Sukses Makmur Tbk - Noodle Div...   \n",
       "\n",
       "         level employment-type  \n",
       "0  Entry level       Full-time  \n",
       "1  Entry level       Full-time  \n",
       "2  Entry level       Full-time  \n",
       "3  Entry level       Full-time  \n",
       "4  Entry level       Full-time  "
      ]
     },
     "execution_count": 40,
     "metadata": {},
     "output_type": "execute_result"
    }
   ],
   "source": [
    "df = pd.DataFrame(jobResult)\n",
    "\n",
    "df.head()"
   ]
  }
 ],
 "metadata": {
  "kernelspec": {
   "display_name": "Python 3",
   "language": "python",
   "name": "python3"
  },
  "language_info": {
   "codemirror_mode": {
    "name": "ipython",
    "version": 3
   },
   "file_extension": ".py",
   "mimetype": "text/x-python",
   "name": "python",
   "nbconvert_exporter": "python",
   "pygments_lexer": "ipython3",
   "version": "3.11.5"
  }
 },
 "nbformat": 4,
 "nbformat_minor": 2
}
